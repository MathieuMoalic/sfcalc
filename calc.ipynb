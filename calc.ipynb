{
 "metadata": {
  "language_info": {
   "codemirror_mode": {
    "name": "ipython",
    "version": 3
   },
   "file_extension": ".py",
   "mimetype": "text/x-python",
   "name": "python",
   "nbconvert_exporter": "python",
   "pygments_lexer": "ipython3",
   "version": "3.9.0"
  },
  "orig_nbformat": 2,
  "kernelspec": {
   "name": "python390jvsc74a57bd05d8dee57b55eda9fd423df9389b66eec4ccfe5368f51490f197bfac43f8d5911",
   "display_name": "Python 3.9.0 64-bit ('env': venv)",
   "language": "python"
  }
 },
 "nbformat": 4,
 "nbformat_minor": 2,
 "cells": [
  {
   "cell_type": "code",
   "execution_count": 4,
   "metadata": {},
   "outputs": [
    {
     "output_type": "execute_result",
     "data": {
      "text/plain": [
       "{'CateriumIngot': [CateriumIngot 12, CateriumIngot 12],\n",
       " 'CopperIngot': [CopperIngot 15,\n",
       "  CopperIngot 15,\n",
       "  CopperIngot 20,\n",
       "  CopperIngot 20,\n",
       "  CopperIngot 15,\n",
       "  CopperIngot 20,\n",
       "  CopperIngot 15,\n",
       "  CopperIngot 20,\n",
       "  CopperIngot 15,\n",
       "  CopperIngot 20],\n",
       " 'IronIngot': [IronIngot 30, IronIngot 15],\n",
       " 'Limestone': [Limestone 45],\n",
       " 'Plastic': [Plastic 4,\n",
       "  Plastic 4,\n",
       "  Plastic 45,\n",
       "  Plastic 4,\n",
       "  Plastic 45,\n",
       "  Plastic 4,\n",
       "  Plastic 52.5],\n",
       " 'SteelIngot': [SteelIngot 30,\n",
       "  SteelIngot 60,\n",
       "  SteelIngot 30,\n",
       "  SteelIngot 60,\n",
       "  SteelIngot 60,\n",
       "  SteelIngot 60,\n",
       "  SteelIngot 60]}"
      ]
     },
     "metadata": {},
     "execution_count": 4
    }
   ],
   "source": [
    "import sfcalc as s\n",
    "q = s.AssemblyDirectorSystem(2)\n",
    "# q.number_of_buildings\n",
    "w = q.get_components()\n",
    "w = q.flatten(w)\n",
    "w = sorted(w, key=lambda x: str(x.__class__))\n",
    "w = q.group(w)\n",
    "g = []\n",
    "for _,a in w:\n",
    "    val = \n",
    "    for item in a:\n",
    "        "
   ]
  }
 ]
}